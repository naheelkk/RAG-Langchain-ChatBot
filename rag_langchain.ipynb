{
 "cells": [
  {
   "cell_type": "code",
   "execution_count": 81,
   "id": "c40bd382",
   "metadata": {},
   "outputs": [],
   "source": [
    "import os\n",
    "from dotenv import load_dotenv\n",
    "load_dotenv()\n",
    "\n",
    "# os.environ['OPENAI_API_KEY'] = os.getenv(\"OPENAI_API_KEY\")\n",
    "os.environ[\"HUGGINGFACEHUB_API_TOKEN\"] = os.getenv(\"HUGGINGFACEHUB_API_TOKEN\")\n"
   ]
  },
  {
   "cell_type": "markdown",
   "id": "71a97197",
   "metadata": {},
   "source": [
    "Step 1: Load documents from PDF file\n"
   ]
  },
  {
   "cell_type": "code",
   "execution_count": 82,
   "id": "17177475",
   "metadata": {},
   "outputs": [],
   "source": [
    "pdf_directory='./docs'\n",
    "\n",
    "documents = []\n",
    "\n",
    "file_paths = [os.path.join(pdf_directory,file) for file in os.listdir(pdf_directory) if file.endswith('.md')]\n",
    "\n",
    "from langchain.document_loaders import UnstructuredMarkdownLoader\n",
    "\n",
    "for file_path in file_paths:\n",
    "    loader = UnstructuredMarkdownLoader(file_path)\n",
    "    documents.extend(loader.load())\n"
   ]
  },
  {
   "cell_type": "code",
   "execution_count": 83,
   "id": "a126759d",
   "metadata": {},
   "outputs": [
    {
     "data": {
      "text/plain": [
       "[Document(metadata={'source': './docs\\\\personal_health_log.md'}, page_content='🧠 Personal Health Log – April 2025\\n\\n🌡️ Symptoms Tracker\\n\\nDate Issue Severity Notes Apr 10 Migraine 7/10 Triggered after poor sleep Apr 14 Sore throat 5/10 Resolved with warm liquids Apr 17 Lower back pain 6/10 Possibly from long sitting\\n\\n🏋️ Exercise Log\\n\\nDate Activity Duration Notes Apr 12 Upper body workout 45 min Good form, added shoulder press Apr 13 Muay Thai basics 30 min Focused on jab-cross combos Apr 16 Lower body (light) 40 min Split squats, glute bridges\\n\\n🍽️ Diet Notes\\n\\nIncreased protein intake (100g/day avg)\\n\\nMore veggies, started green smoothies\\n\\nCut back on late-night snacking\\n\\n🧘 Mental Health\\n\\nJournaling 3x/week\\n\\nUsing Insight Timer for 10-min meditation\\n\\nSleep avg: 6.5–7 hrs\\n\\n🩺 Upcoming Appointments\\n\\nGeneral Check-up – May 3, 2025\\n\\nDentist – May 12, 2025'),\n",
       " Document(metadata={'source': './docs\\\\resume.md'}, page_content='Naheel KK\\n\\nFull-Stack Developer (MERN) | Node.js | Express | MongoDB | React GitHub • LinkedIn • Kochi, India\\n\\n🧠 Skills\\n\\nLanguages: JavaScript, HTML, CSS, Python\\n\\nFrameworks: Node.js, Express, React\\n\\nDatabase: MongoDB, MySQL\\n\\nTools: Git, Postman, Figma, VS Code\\n\\n📚 Education\\n\\nBSc Computer Science [Your College], Kerala 2022 – 2025 (Expected)\\n\\n🛠 Projects\\n\\nCollege Exam Cell Automation\\n\\nAuto-allocates students and invigilators using Excel input\\n\\nGenerates room-wise PDF and consolidated report\\n\\nFully offline desktop app using Python\\n\\nPersonal Chatbot (Work in Progress)\\n\\nModular command handling\\n\\nReact frontend + Express backend\\n\\nAims to support OpenAI API integration\\n\\n🏆 Certifications\\n\\nMeta Backend Developer – Coursera (2024)\\n\\nResponsive Web Design – freeCodeCamp (2023)\\n\\n🌱 Interests\\n\\nMuay Thai, AI/ML tools, Obsidian note-taking, productivity hacking'),\n",
       " Document(metadata={'source': './docs\\\\trip_plan_japan_225.md'}, page_content=\"🇯🇵 Japan Trip Plan – September 2025\\n\\n✈️ Flights\\n\\nDeparture: Kochi ➡️ Tokyo (Narita) – Sep 5, 2025\\n\\nReturn: Osaka (Kansai) ➡️ Kochi – Sep 20, 2025\\n\\n🏨 Accommodation\\n\\nCity Dates Hotel/Airbnb Tokyo Sep 5–9 Shinjuku Granbell Hotel Kyoto Sep 9–14 Airbnb near Gion District Osaka Sep 14–20 Hotel Universal Port (near USJ)\\n\\n📍 Itinerary Highlights\\n\\nTokyo\\n\\nShibuya Crossing, Harajuku, Meiji Shrine\\n\\nAkihabara (for tech/gaming)\\n\\nDay trip to Mt. Fuji via Hakone\\n\\nKyoto\\n\\nFushimi Inari Shrine\\n\\nArashiyama Bamboo Forest\\n\\nKinkaku-ji, Philosopher's Path\\n\\nOsaka\\n\\nDotonbori food tour\\n\\nUniversal Studios Japan\\n\\nOsaka Castle, Namba\\n\\n🎟️ Bookings To Do\\n\\n[ ] JR Pass\\n\\n[ ] USJ Tickets\\n\\n[ ] TeamLab Tokyo (pre-book)\\n\\n💰 Budget\\n\\nCategory Amount Flights ₹60,000 Hotels ₹85,000 Food & Local ₹40,000 Tickets & Pass ₹20,000 Total ~₹2,05,000\"),\n",
       " Document(metadata={'source': './docs\\\\weekly_meeting_notes.md'}, page_content='📝 Weekly Sync Meeting – April 15, 2025\\n\\nAttendees: Naheel, Ayesha, Ravi, Tanuja Time: 10:00 AM – 11:00 AM Platform: Google Meet\\n\\n📌 Agenda\\n\\nMERN Stack Progress Check\\n\\nCollege Exam Cell Project – PDF Gen Issues\\n\\nMuay Thai Progress Check-in (for wellness discussion)\\n\\nTask allocation for the next sprint\\n\\n🧩 Discussion Points\\n\\nMERN Progress\\n\\nNode.js modules completed\\n\\nExpress basics covered, starting API routing\\n\\nMongoDB setup pending\\n\\nExam Cell\\n\\nPDF rendering issues in student report\\n\\nNeed to finalize absentee module\\n\\nAyesha will test on the offline machine\\n\\nWellness\\n\\nNaheel started Muay Thai – focus: discipline & stress relief\\n\\nTanuja joined gym recently – leg day pain discussed 😅\\n\\n✅ Action Items\\n\\n[ ] Naheel: Setup MongoDB by Apr 18\\n\\n[ ] Ayesha: Debug PDF formatting\\n\\n[ ] Ravi: Research image-to-PDF conversion (for hall tickets)')]"
      ]
     },
     "execution_count": 83,
     "metadata": {},
     "output_type": "execute_result"
    }
   ],
   "source": [
    "documents"
   ]
  },
  {
   "cell_type": "code",
   "execution_count": 84,
   "id": "b4048990",
   "metadata": {},
   "outputs": [],
   "source": [
    "from langchain_text_splitters import RecursiveCharacterTextSplitter\n",
    "\n",
    "text_splitter = RecursiveCharacterTextSplitter(\n",
    "    chunk_size = 300,\n",
    "    chunk_overlap = 100\n",
    ")\n",
    "text_splitted_document = text_splitter.split_documents(documents)"
   ]
  },
  {
   "cell_type": "code",
   "execution_count": 85,
   "id": "c62aeaac",
   "metadata": {},
   "outputs": [
    {
     "data": {
      "text/plain": [
       "[Document(metadata={'source': './docs\\\\personal_health_log.md'}, page_content='🧠 Personal Health Log – April 2025\\n\\n🌡️ Symptoms Tracker\\n\\nDate Issue Severity Notes Apr 10 Migraine 7/10 Triggered after poor sleep Apr 14 Sore throat 5/10 Resolved with warm liquids Apr 17 Lower back pain 6/10 Possibly from long sitting\\n\\n🏋️ Exercise Log'),\n",
       " Document(metadata={'source': './docs\\\\personal_health_log.md'}, page_content='🏋️ Exercise Log\\n\\nDate Activity Duration Notes Apr 12 Upper body workout 45 min Good form, added shoulder press Apr 13 Muay Thai basics 30 min Focused on jab-cross combos Apr 16 Lower body (light) 40 min Split squats, glute bridges\\n\\n🍽️ Diet Notes\\n\\nIncreased protein intake (100g/day avg)'),\n",
       " Document(metadata={'source': './docs\\\\personal_health_log.md'}, page_content='🍽️ Diet Notes\\n\\nIncreased protein intake (100g/day avg)\\n\\nMore veggies, started green smoothies\\n\\nCut back on late-night snacking\\n\\n🧘 Mental Health\\n\\nJournaling 3x/week\\n\\nUsing Insight Timer for 10-min meditation\\n\\nSleep avg: 6.5–7 hrs\\n\\n🩺 Upcoming Appointments\\n\\nGeneral Check-up – May 3, 2025'),\n",
       " Document(metadata={'source': './docs\\\\personal_health_log.md'}, page_content='Sleep avg: 6.5–7 hrs\\n\\n🩺 Upcoming Appointments\\n\\nGeneral Check-up – May 3, 2025\\n\\nDentist – May 12, 2025'),\n",
       " Document(metadata={'source': './docs\\\\resume.md'}, page_content='Naheel KK\\n\\nFull-Stack Developer (MERN) | Node.js | Express | MongoDB | React GitHub • LinkedIn • Kochi, India\\n\\n🧠 Skills\\n\\nLanguages: JavaScript, HTML, CSS, Python\\n\\nFrameworks: Node.js, Express, React\\n\\nDatabase: MongoDB, MySQL\\n\\nTools: Git, Postman, Figma, VS Code\\n\\n📚 Education'),\n",
       " Document(metadata={'source': './docs\\\\resume.md'}, page_content='Database: MongoDB, MySQL\\n\\nTools: Git, Postman, Figma, VS Code\\n\\n📚 Education\\n\\nBSc Computer Science [Your College], Kerala 2022 – 2025 (Expected)\\n\\n🛠 Projects\\n\\nCollege Exam Cell Automation\\n\\nAuto-allocates students and invigilators using Excel input\\n\\nGenerates room-wise PDF and consolidated report'),\n",
       " Document(metadata={'source': './docs\\\\resume.md'}, page_content='Generates room-wise PDF and consolidated report\\n\\nFully offline desktop app using Python\\n\\nPersonal Chatbot (Work in Progress)\\n\\nModular command handling\\n\\nReact frontend + Express backend\\n\\nAims to support OpenAI API integration\\n\\n🏆 Certifications\\n\\nMeta Backend Developer – Coursera (2024)'),\n",
       " Document(metadata={'source': './docs\\\\resume.md'}, page_content='Aims to support OpenAI API integration\\n\\n🏆 Certifications\\n\\nMeta Backend Developer – Coursera (2024)\\n\\nResponsive Web Design – freeCodeCamp (2023)\\n\\n🌱 Interests\\n\\nMuay Thai, AI/ML tools, Obsidian note-taking, productivity hacking'),\n",
       " Document(metadata={'source': './docs\\\\trip_plan_japan_225.md'}, page_content='🇯🇵 Japan Trip Plan – September 2025\\n\\n✈️ Flights\\n\\nDeparture: Kochi ➡️ Tokyo (Narita) – Sep 5, 2025\\n\\nReturn: Osaka (Kansai) ➡️ Kochi – Sep 20, 2025\\n\\n🏨 Accommodation'),\n",
       " Document(metadata={'source': './docs\\\\trip_plan_japan_225.md'}, page_content='Return: Osaka (Kansai) ➡️ Kochi – Sep 20, 2025\\n\\n🏨 Accommodation\\n\\nCity Dates Hotel/Airbnb Tokyo Sep 5–9 Shinjuku Granbell Hotel Kyoto Sep 9–14 Airbnb near Gion District Osaka Sep 14–20 Hotel Universal Port (near USJ)\\n\\n📍 Itinerary Highlights\\n\\nTokyo\\n\\nShibuya Crossing, Harajuku, Meiji Shrine'),\n",
       " Document(metadata={'source': './docs\\\\trip_plan_japan_225.md'}, page_content=\"📍 Itinerary Highlights\\n\\nTokyo\\n\\nShibuya Crossing, Harajuku, Meiji Shrine\\n\\nAkihabara (for tech/gaming)\\n\\nDay trip to Mt. Fuji via Hakone\\n\\nKyoto\\n\\nFushimi Inari Shrine\\n\\nArashiyama Bamboo Forest\\n\\nKinkaku-ji, Philosopher's Path\\n\\nOsaka\\n\\nDotonbori food tour\\n\\nUniversal Studios Japan\\n\\nOsaka Castle, Namba\"),\n",
       " Document(metadata={'source': './docs\\\\trip_plan_japan_225.md'}, page_content='Osaka\\n\\nDotonbori food tour\\n\\nUniversal Studios Japan\\n\\nOsaka Castle, Namba\\n\\n🎟️ Bookings To Do\\n\\n[ ] JR Pass\\n\\n[ ] USJ Tickets\\n\\n[ ] TeamLab Tokyo (pre-book)\\n\\n💰 Budget\\n\\nCategory Amount Flights ₹60,000 Hotels ₹85,000 Food & Local ₹40,000 Tickets & Pass ₹20,000 Total ~₹2,05,000'),\n",
       " Document(metadata={'source': './docs\\\\weekly_meeting_notes.md'}, page_content='📝 Weekly Sync Meeting – April 15, 2025\\n\\nAttendees: Naheel, Ayesha, Ravi, Tanuja Time: 10:00 AM – 11:00 AM Platform: Google Meet\\n\\n📌 Agenda\\n\\nMERN Stack Progress Check\\n\\nCollege Exam Cell Project – PDF Gen Issues\\n\\nMuay Thai Progress Check-in (for wellness discussion)\\n\\nTask allocation for the next sprint'),\n",
       " Document(metadata={'source': './docs\\\\weekly_meeting_notes.md'}, page_content='Muay Thai Progress Check-in (for wellness discussion)\\n\\nTask allocation for the next sprint\\n\\n🧩 Discussion Points\\n\\nMERN Progress\\n\\nNode.js modules completed\\n\\nExpress basics covered, starting API routing\\n\\nMongoDB setup pending\\n\\nExam Cell\\n\\nPDF rendering issues in student report'),\n",
       " Document(metadata={'source': './docs\\\\weekly_meeting_notes.md'}, page_content='MongoDB setup pending\\n\\nExam Cell\\n\\nPDF rendering issues in student report\\n\\nNeed to finalize absentee module\\n\\nAyesha will test on the offline machine\\n\\nWellness\\n\\nNaheel started Muay Thai – focus: discipline & stress relief\\n\\nTanuja joined gym recently – leg day pain discussed 😅\\n\\n✅ Action Items'),\n",
       " Document(metadata={'source': './docs\\\\weekly_meeting_notes.md'}, page_content='Tanuja joined gym recently – leg day pain discussed 😅\\n\\n✅ Action Items\\n\\n[ ] Naheel: Setup MongoDB by Apr 18\\n\\n[ ] Ayesha: Debug PDF formatting\\n\\n[ ] Ravi: Research image-to-PDF conversion (for hall tickets)')]"
      ]
     },
     "execution_count": 85,
     "metadata": {},
     "output_type": "execute_result"
    }
   ],
   "source": [
    "text_splitted_document"
   ]
  },
  {
   "cell_type": "code",
   "execution_count": 86,
   "id": "09d15e60",
   "metadata": {},
   "outputs": [],
   "source": [
    "from langchain_community.vectorstores import FAISS\n",
    "# from langchain_openai import OpenAIEmbeddings\n",
    "from langchain.embeddings import HuggingFaceEmbeddings\n",
    "\n",
    "embedding = HuggingFaceEmbeddings(model_name=\"all-MiniLM-L6-v2\")\n",
    "vectorstore = FAISS.from_documents(text_splitted_document, embedding)\n",
    "\n",
    "# embeddings = OpenAIEmbeddings()\n",
    "# vectorstore = FAISS.from_documents(text_splitted_document,embeddings)"
   ]
  },
  {
   "cell_type": "code",
   "execution_count": 87,
   "id": "be57145f",
   "metadata": {},
   "outputs": [
    {
     "data": {
      "text/plain": [
       "<langchain_community.vectorstores.faiss.FAISS at 0x1f868cd18e0>"
      ]
     },
     "execution_count": 87,
     "metadata": {},
     "output_type": "execute_result"
    }
   ],
   "source": [
    "vectorstore"
   ]
  },
  {
   "cell_type": "code",
   "execution_count": 88,
   "id": "afced931",
   "metadata": {},
   "outputs": [
    {
     "name": "stdout",
     "output_type": "stream",
     "text": [
      "3\n"
     ]
    },
    {
     "data": {
      "text/plain": [
       "'🧠 Personal Health Log – April 2025\\n\\n🌡️ Symptoms Tracker\\n\\nDate Issue Severity Notes Apr 10 Migraine 7/10 Triggered after poor sleep Apr 14 Sore throat 5/10 Resolved with warm liquids Apr 17 Lower back pain 6/10 Possibly from long sitting\\n\\n🏋️ Exercise Log'"
      ]
     },
     "execution_count": 88,
     "metadata": {},
     "output_type": "execute_result"
    }
   ],
   "source": [
    "query = \"When was i suffered Migraine\"\n",
    "retriever = vectorstore.as_retriever(\n",
    "    search_type=\"similarity\",\n",
    "    search_kwargs={\"k\":3}\n",
    ")\n",
    "result = retriever.invoke(query)\n",
    "print(len(result))\n",
    "result[0].page_content"
   ]
  },
  {
   "cell_type": "code",
   "execution_count": 89,
   "id": "71a799df",
   "metadata": {},
   "outputs": [
    {
     "name": "stderr",
     "output_type": "stream",
     "text": [
      "Xet Storage is enabled for this repo, but the 'hf_xet' package is not installed. Falling back to regular HTTP download. For better performance, install the package with: `pip install huggingface_hub[hf_xet]` or `pip install hf_xet`\n",
      "Xet Storage is enabled for this repo, but the 'hf_xet' package is not installed. Falling back to regular HTTP download. For better performance, install the package with: `pip install huggingface_hub[hf_xet]` or `pip install hf_xet`\n",
      "Device set to use cpu\n",
      "C:\\Users\\kknah\\AppData\\Local\\Temp\\ipykernel_39396\\2439152830.py:9: LangChainDeprecationWarning: The class `HuggingFacePipeline` was deprecated in LangChain 0.0.37 and will be removed in 1.0. An updated version of the class exists in the :class:`~langchain-huggingface package and should be used instead. To use it run `pip install -U :class:`~langchain-huggingface` and import as `from :class:`~langchain_huggingface import HuggingFacePipeline``.\n",
      "  llm = HuggingFacePipeline(pipeline=flan_pipeline)\n"
     ]
    }
   ],
   "source": [
    "from transformers import pipeline\n",
    "from langchain.llms import HuggingFacePipeline\n",
    "from langchain.chains import RetrievalQA\n",
    "\n",
    "# Load a Hugging Face pipeline with the right task\n",
    "flan_pipeline = pipeline(\"text2text-generation\", model=\"google/flan-t5-large\")\n",
    "\n",
    "# Wrap it in LangChain's LLM class\n",
    "llm = HuggingFacePipeline(pipeline=flan_pipeline)\n",
    "# llm = OpenAI(temperature=0)\n",
    "qa_chain = RetrievalQA.from_chain_type(\n",
    "    llm=llm,\n",
    "    retriever=retriever,\n",
    "    return_source_documents=True\n",
    ")"
   ]
  },
  {
   "cell_type": "code",
   "execution_count": null,
   "id": "f961180c",
   "metadata": {},
   "outputs": [],
   "source": []
  },
  {
   "cell_type": "code",
   "execution_count": 93,
   "id": "f600cfde",
   "metadata": {},
   "outputs": [
    {
     "name": "stdout",
     "output_type": "stream",
     "text": [
      "\n",
      "Question:  Which cities i'm visiting in Japan\n",
      "\n",
      "Answer: Tokyo\n"
     ]
    }
   ],
   "source": [
    "\n",
    "query= \"Which cities i'm visiting in Japan\"\n",
    "result = qa_chain.invoke({\"query\": query})\n",
    "print(\"\\nQuestion: \",query)\n",
    "print(\"\\nAnswer:\",result[\"result\"])\n"
   ]
  },
  {
   "cell_type": "code",
   "execution_count": 94,
   "id": "d54cc59d",
   "metadata": {},
   "outputs": [],
   "source": [
    "from langchain.prompts import PromptTemplate\n",
    "template = \"\"\"\n",
    "You are a helpful assistant that answers questions based on provided documents,\n",
    "\n",
    "Context information from documents:\n",
    "{context}\n",
    "Question: {question}\n",
    "\n",
    "Answer the question based on the provided documents. \n",
    "\"\"\"\n",
    "\n",
    "prompt=PromptTemplate(\n",
    "    template=template,\n",
    "    input_variables=[\"context\",\"question\"]\n",
    ")"
   ]
  },
  {
   "cell_type": "code",
   "execution_count": null,
   "id": "5acd9b22",
   "metadata": {},
   "outputs": [],
   "source": [
    "flan_pipeline = pipeline(\"text2text-generation\", model=\"google/flan-t5-large\")\n",
    "\n",
    "# Wrap it in LangChain's LLM class\n",
    "llm = HuggingFacePipeline(pipeline=flan_pipeline)\n",
    "# llm = OpenAI(temperature=0)\n",
    "qa_chain = RetrievalQA.from_chain_type(\n",
    "    llm=llm,\n",
    "    retriever=retriever,\n",
    "    return_source_documents=True,\n",
    "    chain_type_kwargs={\"prompt\":prompt}\n",
    ")"
   ]
  },
  {
   "cell_type": "code",
   "execution_count": 97,
   "id": "85c4a889",
   "metadata": {},
   "outputs": [
    {
     "name": "stdout",
     "output_type": "stream",
     "text": [
      "Question:  What's my interests\n",
      "\n",
      "Answer:  Muay Thai, AI/ML tools, Obsidian note-taking, productivity hack\n"
     ]
    }
   ],
   "source": [
    "query = \"What's my interests\"\n",
    "result= qa_chain.invoke({\"query\":query})\n",
    "print(\"Question: \",query)\n",
    "print(\"\\nAnswer: \",result[\"result\"])"
   ]
  }
 ],
 "metadata": {
  "kernelspec": {
   "display_name": "Python 3",
   "language": "python",
   "name": "python3"
  },
  "language_info": {
   "codemirror_mode": {
    "name": "ipython",
    "version": 3
   },
   "file_extension": ".py",
   "mimetype": "text/x-python",
   "name": "python",
   "nbconvert_exporter": "python",
   "pygments_lexer": "ipython3",
   "version": "3.12.0"
  }
 },
 "nbformat": 4,
 "nbformat_minor": 5
}
